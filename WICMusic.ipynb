{
  "metadata": {
    "kernelspec": {
      "name": "python",
      "display_name": "Python (Pyodide)",
      "language": "python"
    },
    "language_info": {
      "codemirror_mode": {
        "name": "python",
        "version": 3
      },
      "file_extension": ".py",
      "mimetype": "text/x-python",
      "name": "python",
      "nbconvert_exporter": "python",
      "pygments_lexer": "ipython3",
      "version": "3.8"
    }
  },
  "nbformat_minor": 4,
  "nbformat": 4,
  "cells": [
    {
      "cell_type": "code",
      "source": "# This is a script that will allow me to input notes according to the western \n# classical system and convert it into Sargam according to an input flute key",
      "metadata": {
        "trusted": true
      },
      "outputs": [],
      "execution_count": 1
    },
    {
      "cell_type": "code",
      "source": "# Define a dictionary of western notes starting with C\n\nkeylist = [\"C\", \"C#\", \"D\", \"D#\", \"E\", \"F\", \"F#\", \"G\", \"G#\", \"A\", \"A#\", \"B\"]\n\nNotes = {}\n\nfor index, note in enumerate(keylist) :\n    Notes[note] = index\n\nNotes[\" \"] = \" \"",
      "metadata": {
        "trusted": true
      },
      "outputs": [],
      "execution_count": 2
    },
    {
      "cell_type": "code",
      "source": "# Similarly, let's define a dictionary for sargam swars\n\nsargamlist = [\"S\", \"r\", \"R\", \"g\", \"G\", \"m\", \"M\", \"P\", \"d\", \"D\", \"n\", \"N\"]\n\nSwar = {}\n\nfor index, note in enumerate(sargamlist) :\n    Swar[note] = index\n",
      "metadata": {
        "trusted": true
      },
      "outputs": [],
      "execution_count": 3
    },
    {
      "cell_type": "code",
      "source": "# Here we take the input string and convert it to sargam\ndef western_to_sargam(input_string, base_key):\n    # Preprocess input string to handle sharps correctly\n    note_string = list(input_string)\n    temp = []\n    for index, el in enumerate(note_string):\n        if el == \"#\":\n            note_string[index-1] += \"#\"\n    for el in note_string:\n        if el != \"#\":\n            temp.append(el)\n    note_string = temp\n\n    transpose = Notes[base_key]\n\n    # Convert each note to index and then to sargam\n    index_string = [Notes[el] for el in note_string]\n    sargam = []\n    for index in index_string:\n        if index == \" \":\n            sargam.append(\" \")\n        else:\n            num = (index - transpose) % 12\n            sargam.append(sargamlist[num])\n\n    return ''.join(sargam)",
      "metadata": {
        "trusted": true
      },
      "outputs": [],
      "execution_count": 8
    },
    {
      "cell_type": "code",
      "source": "if __name__ == \"__main__\":\n    \n    base_key = \"D\"\n    input_string = \"D F# A G F# D F# E D B D A G B A G\"\n\n    result = western_to_sargam(input_string, base_key)\n    print(input_string)\n    print(result)",
      "metadata": {
        "trusted": true
      },
      "outputs": [
        {
          "name": "stdout",
          "output_type": "stream",
          "text": "D F# A G F# D F# E D B D A G B A G B\nS G P m G S G R S D S P m D P m D\n"
        }
      ],
      "execution_count": 10
    },
    {
      "cell_type": "code",
      "source": "",
      "metadata": {
        "trusted": true
      },
      "outputs": [],
      "execution_count": null
    }
  ]
}