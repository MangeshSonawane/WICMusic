{
 "cells": [
  {
   "cell_type": "code",
   "execution_count": 1,
   "metadata": {},
   "outputs": [],
   "source": [
    "# This is a script that will allow me to input notes according to the western \n",
    "# classical system and convert it into Sargam according to an input flute key"
   ]
  },
  {
   "cell_type": "code",
   "execution_count": 2,
   "metadata": {},
   "outputs": [],
   "source": [
    "# Define a dictionary of western notes starting with C\n",
    "\n",
    "keylist = [\"C\", \"C#\", \"D\", \"D#\", \"E\", \"F\", \"F#\", \"G\", \"G#\", \"A\", \"A#\", \"B\"]\n",
    "\n",
    "Notes = {}\n",
    "\n",
    "for index, note in enumerate(keylist) :\n",
    "    Notes[note] = index\n",
    "\n",
    "Notes[\" \"] = \" \""
   ]
  },
  {
   "cell_type": "code",
   "execution_count": 3,
   "metadata": {},
   "outputs": [],
   "source": [
    "# Similarly, let's define a dictionary for sargam swars\n",
    "\n",
    "sargamlist = [\"S\", \"r\", \"R\", \"g\", \"G\", \"m\", \"M\", \"P\", \"d\", \"D\", \"n\", \"N\"]\n",
    "\n",
    "Swar = {}\n",
    "\n",
    "for index, note in enumerate(sargamlist) :\n",
    "    Swar[note] = index\n"
   ]
  },
  {
   "cell_type": "code",
   "execution_count": 11,
   "metadata": {},
   "outputs": [],
   "source": [
    "# Run this block everytime to run the conversion\n",
    "\n",
    "Base_key = \"D\"\n",
    "\n",
    "input_string = \"D F# A G F# D F# E D B D A G B A G\""
   ]
  },
  {
   "cell_type": "code",
   "execution_count": 12,
   "metadata": {},
   "outputs": [
    {
     "name": "stdout",
     "output_type": "stream",
     "text": [
      "D F# A G F# D F# E D B D A G B A G\n",
      "S G P m G S G R S D S P m D P m\n"
     ]
    }
   ],
   "source": [
    "# Here we take the input string and convert it to sargam\n",
    "\n",
    "note_string = list(input_string)\n",
    "temp = []\n",
    "\n",
    "for index, el in enumerate(note_string) :\n",
    "    if el == \"#\" : note_string[index-1]+= \"#\"\n",
    "    \n",
    "for el in note_string :\n",
    "    if el != \"#\" : temp.append(el)\n",
    "\n",
    "note_string = temp\n",
    "\n",
    "transpose = Notes[Base_key]\n",
    "\n",
    "index_string = []\n",
    "for el in note_string :\n",
    "    index_string.append(Notes[el])\n",
    "\n",
    "sargam = []\n",
    "\n",
    "for index in index_string :\n",
    "    if index == \" \" : sargam.append(\" \")\n",
    "    else : \n",
    "        num = (index-transpose)%12\n",
    "        sargam.append(sargamlist[num])\n",
    "\n",
    "result = ''.join(sargam)\n",
    "print(input_string)\n",
    "print(result)"
   ]
  },
  {
   "cell_type": "code",
   "execution_count": null,
   "metadata": {},
   "outputs": [],
   "source": []
  },
  {
   "cell_type": "code",
   "execution_count": null,
   "metadata": {},
   "outputs": [],
   "source": []
  }
 ],
 "metadata": {
  "kernelspec": {
   "display_name": "Python 3 (ipykernel)",
   "language": "python",
   "name": "python3"
  },
  "language_info": {
   "codemirror_mode": {
    "name": "ipython",
    "version": 3
   },
   "file_extension": ".py",
   "mimetype": "text/x-python",
   "name": "python",
   "nbconvert_exporter": "python",
   "pygments_lexer": "ipython3",
   "version": "3.11.0"
  }
 },
 "nbformat": 4,
 "nbformat_minor": 4
}
