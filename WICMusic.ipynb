{
 "cells": [
  {
   "cell_type": "code",
   "execution_count": 86,
   "metadata": {
    "tags": []
   },
   "outputs": [],
   "source": [
    "# This is a script that will allow me to input notes according to the western \n",
    "# classical system and convert it into Sargam according to an input flute key\n",
    "\n",
    "# It can take a .mxl file as input. To convert score to .mxl, I use Audiveris"
   ]
  },
  {
   "cell_type": "code",
   "execution_count": 1,
   "metadata": {
    "tags": []
   },
   "outputs": [
    {
     "name": "stdout",
     "output_type": "stream",
     "text": [
      "Requirement already satisfied: music21 in /home/sentientmango/miniconda3/envs/WIC/lib/python3.10/site-packages (9.5.0)\n",
      "Requirement already satisfied: chardet in /home/sentientmango/miniconda3/envs/WIC/lib/python3.10/site-packages (from music21) (5.2.0)\n",
      "Requirement already satisfied: joblib in /home/sentientmango/miniconda3/envs/WIC/lib/python3.10/site-packages (from music21) (1.5.0)\n",
      "Requirement already satisfied: jsonpickle in /home/sentientmango/miniconda3/envs/WIC/lib/python3.10/site-packages (from music21) (4.0.5)\n",
      "Requirement already satisfied: matplotlib in /home/sentientmango/miniconda3/envs/WIC/lib/python3.10/site-packages (from music21) (3.10.3)\n",
      "Requirement already satisfied: more-itertools in /home/sentientmango/miniconda3/envs/WIC/lib/python3.10/site-packages (from music21) (10.7.0)\n",
      "Requirement already satisfied: numpy<2.0.0 in /home/sentientmango/miniconda3/envs/WIC/lib/python3.10/site-packages (from music21) (1.26.4)\n",
      "Requirement already satisfied: requests in /home/sentientmango/miniconda3/envs/WIC/lib/python3.10/site-packages (from music21) (2.32.3)\n",
      "Requirement already satisfied: webcolors>=1.5 in /home/sentientmango/miniconda3/envs/WIC/lib/python3.10/site-packages (from music21) (24.11.1)\n",
      "Requirement already satisfied: contourpy>=1.0.1 in /home/sentientmango/miniconda3/envs/WIC/lib/python3.10/site-packages (from matplotlib->music21) (1.3.2)\n",
      "Requirement already satisfied: cycler>=0.10 in /home/sentientmango/miniconda3/envs/WIC/lib/python3.10/site-packages (from matplotlib->music21) (0.12.1)\n",
      "Requirement already satisfied: fonttools>=4.22.0 in /home/sentientmango/miniconda3/envs/WIC/lib/python3.10/site-packages (from matplotlib->music21) (4.58.0)\n",
      "Requirement already satisfied: kiwisolver>=1.3.1 in /home/sentientmango/miniconda3/envs/WIC/lib/python3.10/site-packages (from matplotlib->music21) (1.4.8)\n",
      "Requirement already satisfied: packaging>=20.0 in /home/sentientmango/miniconda3/envs/WIC/lib/python3.10/site-packages (from matplotlib->music21) (25.0)\n",
      "Requirement already satisfied: pillow>=8 in /home/sentientmango/miniconda3/envs/WIC/lib/python3.10/site-packages (from matplotlib->music21) (11.2.1)\n",
      "Requirement already satisfied: pyparsing>=2.3.1 in /home/sentientmango/miniconda3/envs/WIC/lib/python3.10/site-packages (from matplotlib->music21) (3.2.3)\n",
      "Requirement already satisfied: python-dateutil>=2.7 in /home/sentientmango/miniconda3/envs/WIC/lib/python3.10/site-packages (from matplotlib->music21) (2.9.0.post0)\n",
      "Requirement already satisfied: six>=1.5 in /home/sentientmango/miniconda3/envs/WIC/lib/python3.10/site-packages (from python-dateutil>=2.7->matplotlib->music21) (1.17.0)\n",
      "Requirement already satisfied: charset_normalizer<4,>=2 in /home/sentientmango/miniconda3/envs/WIC/lib/python3.10/site-packages (from requests->music21) (3.4.2)\n",
      "Requirement already satisfied: idna<4,>=2.5 in /home/sentientmango/miniconda3/envs/WIC/lib/python3.10/site-packages (from requests->music21) (3.10)\n",
      "Requirement already satisfied: urllib3<3,>=1.21.1 in /home/sentientmango/miniconda3/envs/WIC/lib/python3.10/site-packages (from requests->music21) (2.4.0)\n",
      "Requirement already satisfied: certifi>=2017.4.17 in /home/sentientmango/miniconda3/envs/WIC/lib/python3.10/site-packages (from requests->music21) (2025.4.26)\n",
      "Note: you may need to restart the kernel to use updated packages.\n"
     ]
    }
   ],
   "source": [
    "%pip install music21"
   ]
  },
  {
   "cell_type": "code",
   "execution_count": 2,
   "metadata": {
    "tags": []
   },
   "outputs": [],
   "source": [
    "from music21 import converter\n",
    "import re\n",
    "\n",
    "def get_notes(input_file, output_file='notes.txt'):\n",
    "    # Load the MXL file\n",
    "    score = converter.parse(input_file)\n",
    "\n",
    "    # Collect all note pitch names\n",
    "    pitch_names = []\n",
    "    for note in score.recurse().notes:\n",
    "        if note.isNote:\n",
    "            pitch_names.append(note.nameWithOctave)  # e.g., C4, D#5\n",
    "        elif note.isChord:\n",
    "            for n in note.notes:\n",
    "                pitch_names.append(n.nameWithOctave)\n",
    "\n",
    "    # Print or save to text file\n",
    "    note_string = ''\n",
    "    with open(output_file, \"w\") as f:\n",
    "        for name in pitch_names:\n",
    "            f.write(name+\" \")\n",
    "            note_string = note_string+name+\" \""
   ]
  },
  {
   "cell_type": "code",
   "execution_count": 3,
   "metadata": {
    "tags": []
   },
   "outputs": [],
   "source": [
    "# Define a dictionary of western notes starting with C\n",
    "\n",
    "keylist = [\"C\", \"C#\", \"D\", \"D#\", \"E\", \"F\", \"F#\", \"G\", \"G#\", \"A\", \"A#\", \"B\"]\n",
    "\n",
    "Notes = {}\n",
    "\n",
    "for index, note in enumerate(keylist) :\n",
    "    Notes[note] = index\n",
    "\n",
    "Notes[\" \"] = \" \""
   ]
  },
  {
   "cell_type": "code",
   "execution_count": 4,
   "metadata": {
    "tags": []
   },
   "outputs": [],
   "source": [
    "# Similarly, let's define a dictionary for sargam swars\n",
    "\n",
    "sargamlist = [\"S\", \"r\", \"R\", \"g\", \"G\", \"m\", \"M\", \"P\", \"d\", \"D\", \"n\", \"N\"]\n",
    "\n",
    "Swar = {}\n",
    "\n",
    "for index, note in enumerate(sargamlist) :\n",
    "    Swar[note] = index\n"
   ]
  },
  {
   "cell_type": "code",
   "execution_count": 5,
   "metadata": {
    "tags": []
   },
   "outputs": [],
   "source": [
    "# Here we take the input string and convert it to sargam\n",
    "def western_to_sargam(input_string, base_key):\n",
    "    # Preprocess input string to handle sharps correctly\n",
    "    note_string = list(input_string.split(\" \"))\n",
    "\n",
    "    transpose = Notes[base_key[0]]\n",
    "\n",
    "    # Convert each note to index and then to sargam\n",
    "    sargam = []\n",
    "    for el in note_string :\n",
    "        match = re.match(r\"([A-Ga-g#b]+)(-?\\d+)\", el)\n",
    "        if match :\n",
    "            note, octave = match.groups()            \n",
    "            index = Notes[note]\n",
    "            num = (index - transpose) % 12\n",
    "            sargam.append(sargamlist[num]+octave)\n",
    "            sargam.append(\" \")\n",
    "            \n",
    "    #index_string = [Notes[el] for el in note_string]\n",
    "    \n",
    "    #print(index_string)\n",
    "    #sargam = []\n",
    "    #for index in index_string:\n",
    "    #    if index == \" \":\n",
    "    #        sargam.append(\" \")\n",
    "    #    else:\n",
    "    #        num = (index - transpose) % 12\n",
    "    #        sargam.append(sargamlist[num])\n",
    "\n",
    "    return ''.join(sargam)"
   ]
  },
  {
   "cell_type": "code",
   "execution_count": 7,
   "metadata": {
    "tags": []
   },
   "outputs": [
    {
     "name": "stdout",
     "output_type": "stream",
     "text": [
      "F#4 R4\n",
      "G#4 G4\n",
      "G#4 G4\n",
      "G#4 G4\n",
      "B4 P4\n",
      "A4 m4\n",
      "G#4 G4\n",
      "A4 m4\n",
      "G#4 G4\n",
      "F#4 R4\n",
      "E4 S4\n",
      "F#4 R4\n",
      "G#4 G4\n",
      "G#4 G4\n",
      "G#4 G4\n",
      "B4 P4\n",
      "A4 m4\n",
      "G#4 G4\n",
      "G#4 G4\n",
      "F#4 R4\n",
      "F#4 R4\n",
      "A4 m4\n",
      "A4 m4\n",
      "A4 m4\n",
      "C#4 D4\n",
      "A4 m4\n",
      "G#4 G4\n",
      "G#4 G4\n",
      "F#4 R4\n",
      "G#4 G4\n",
      "A4 m4\n",
      "G#4 G4\n",
      "G#4 G4\n",
      "F#4 R4\n",
      "F#4 R4\n",
      "G#4 G4\n",
      "F#4 R4\n",
      "F#4 R4\n",
      "E4 S4\n",
      "E4 S4\n",
      "F#4 R4\n",
      "E4 S4\n",
      "E4 S4\n",
      "D#4 N4\n",
      "D#4 N4\n",
      "E4 S4\n",
      "F#4 R4\n",
      "E4 S4\n",
      "D#4 N4\n",
      "C#4 D4\n",
      "B3 P3\n",
      "B3 P3\n",
      "F#4 R4\n",
      "G#4 G4\n",
      "G#4 G4\n",
      "B4 P4\n",
      "A4 m4\n",
      "G#4 G4\n",
      "G#4 G4\n",
      "F#4 R4\n",
      "F#4 R4\n",
      "G#4 G4\n",
      "G#4 G4\n",
      "G#4 G4\n",
      "C#5 D5\n",
      "B4 P4\n",
      "C#5 D5\n",
      "B4 P4\n",
      "A4 m4\n",
      "B4 P4\n",
      "A4 m4\n",
      "B4 P4\n",
      "A4 m4\n",
      "G#4 G4\n",
      "F#4 R4\n",
      "F#4 R4\n",
      "A4 m4\n",
      "A4 m4\n",
      "A4 m4\n",
      "C#4 D4\n",
      "A4 m4\n",
      "G#4 G4\n",
      "G#4 G4\n",
      "F#4 R4\n",
      "B4 P4\n",
      "A4 m4\n",
      "G#4 G4\n",
      "G#4 G4\n",
      "F#4 R4\n",
      "B4 P4\n",
      "F#4 R4\n",
      "G#4 G4\n",
      "A4 m4\n",
      "A4 m4\n",
      "A4 m4\n",
      "B4 P4\n",
      "C#5 D5\n",
      "D#5 N5\n",
      " \n"
     ]
    }
   ],
   "source": [
    "if __name__ == \"__main__\":\n",
    "    \n",
    "    base_key = \"E\"    \n",
    "    get_notes(\"Genshin_4.mxl\")\n",
    "    \n",
    "    with open('notes.txt', 'r') as file:\n",
    "        input_string = file.read()\n",
    "\n",
    "    result = western_to_sargam(input_string, base_key)\n",
    "#    print(input_string)\n",
    "#    print(result),\n",
    "\n",
    "    notes_input = input_string.split(\" \")\n",
    "    sargam_output = result.split(\" \")\n",
    "    \n",
    "    for i in range(len(notes_input)) :\n",
    "        print(notes_input[i], sargam_output[i])"
   ]
  },
  {
   "cell_type": "code",
   "execution_count": null,
   "metadata": {},
   "outputs": [],
   "source": []
  },
  {
   "cell_type": "code",
   "execution_count": null,
   "metadata": {},
   "outputs": [],
   "source": []
  }
 ],
 "metadata": {
  "kernelspec": {
   "display_name": "Python 3 (ipykernel)",
   "language": "python",
   "name": "python3"
  },
  "language_info": {
   "codemirror_mode": {
    "name": "ipython",
    "version": 3
   },
   "file_extension": ".py",
   "mimetype": "text/x-python",
   "name": "python",
   "nbconvert_exporter": "python",
   "pygments_lexer": "ipython3",
   "version": "3.10.16"
  }
 },
 "nbformat": 4,
 "nbformat_minor": 4
}
